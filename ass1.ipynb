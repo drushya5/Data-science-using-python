{
 "cells": [
  {
   "cell_type": "code",
   "execution_count": 3,
   "id": "48eb4316",
   "metadata": {},
   "outputs": [
    {
     "data": {
      "text/html": [
       "<div>\n",
       "<style scoped>\n",
       "    .dataframe tbody tr th:only-of-type {\n",
       "        vertical-align: middle;\n",
       "    }\n",
       "\n",
       "    .dataframe tbody tr th {\n",
       "        vertical-align: top;\n",
       "    }\n",
       "\n",
       "    .dataframe thead th {\n",
       "        text-align: right;\n",
       "    }\n",
       "</style>\n",
       "<table border=\"1\" class=\"dataframe\">\n",
       "  <thead>\n",
       "    <tr style=\"text-align: right;\">\n",
       "      <th></th>\n",
       "      <th>player name</th>\n",
       "      <th>no of runs</th>\n",
       "      <th>no of wickets</th>\n",
       "      <th>player categorie</th>\n",
       "    </tr>\n",
       "  </thead>\n",
       "  <tbody>\n",
       "    <tr>\n",
       "      <th>0</th>\n",
       "      <td>p1</td>\n",
       "      <td>1500</td>\n",
       "      <td>10</td>\n",
       "      <td>batsman</td>\n",
       "    </tr>\n",
       "    <tr>\n",
       "      <th>1</th>\n",
       "      <td>p2</td>\n",
       "      <td>132</td>\n",
       "      <td>250</td>\n",
       "      <td>bowler</td>\n",
       "    </tr>\n",
       "    <tr>\n",
       "      <th>2</th>\n",
       "      <td>p3</td>\n",
       "      <td>156</td>\n",
       "      <td>122</td>\n",
       "      <td>bowler</td>\n",
       "    </tr>\n",
       "    <tr>\n",
       "      <th>3</th>\n",
       "      <td>p4</td>\n",
       "      <td>5000</td>\n",
       "      <td>9</td>\n",
       "      <td>batsman</td>\n",
       "    </tr>\n",
       "    <tr>\n",
       "      <th>4</th>\n",
       "      <td>p5</td>\n",
       "      <td>155</td>\n",
       "      <td>268</td>\n",
       "      <td>bowler</td>\n",
       "    </tr>\n",
       "    <tr>\n",
       "      <th>5</th>\n",
       "      <td>p6</td>\n",
       "      <td>2000</td>\n",
       "      <td>15</td>\n",
       "      <td>batsman</td>\n",
       "    </tr>\n",
       "    <tr>\n",
       "      <th>6</th>\n",
       "      <td>p7</td>\n",
       "      <td>3000</td>\n",
       "      <td>12</td>\n",
       "      <td>batsman</td>\n",
       "    </tr>\n",
       "    <tr>\n",
       "      <th>7</th>\n",
       "      <td>p8</td>\n",
       "      <td>2500</td>\n",
       "      <td>5</td>\n",
       "      <td>batsman</td>\n",
       "    </tr>\n",
       "    <tr>\n",
       "      <th>8</th>\n",
       "      <td>p9</td>\n",
       "      <td>1200</td>\n",
       "      <td>8</td>\n",
       "      <td>batsman</td>\n",
       "    </tr>\n",
       "    <tr>\n",
       "      <th>9</th>\n",
       "      <td>p10</td>\n",
       "      <td>100</td>\n",
       "      <td>150</td>\n",
       "      <td>bowler</td>\n",
       "    </tr>\n",
       "    <tr>\n",
       "      <th>10</th>\n",
       "      <td>p11</td>\n",
       "      <td>150</td>\n",
       "      <td>200</td>\n",
       "      <td>bowler</td>\n",
       "    </tr>\n",
       "    <tr>\n",
       "      <th>11</th>\n",
       "      <td>p12</td>\n",
       "      <td>20</td>\n",
       "      <td>120</td>\n",
       "      <td>bowler</td>\n",
       "    </tr>\n",
       "    <tr>\n",
       "      <th>12</th>\n",
       "      <td>p13</td>\n",
       "      <td>80</td>\n",
       "      <td>140</td>\n",
       "      <td>bowler</td>\n",
       "    </tr>\n",
       "    <tr>\n",
       "      <th>13</th>\n",
       "      <td>p14</td>\n",
       "      <td>3000</td>\n",
       "      <td>12</td>\n",
       "      <td>batsman</td>\n",
       "    </tr>\n",
       "    <tr>\n",
       "      <th>14</th>\n",
       "      <td>p15</td>\n",
       "      <td>160</td>\n",
       "      <td>130</td>\n",
       "      <td>bowler</td>\n",
       "    </tr>\n",
       "    <tr>\n",
       "      <th>15</th>\n",
       "      <td>p16</td>\n",
       "      <td>2560</td>\n",
       "      <td>15</td>\n",
       "      <td>batsman</td>\n",
       "    </tr>\n",
       "    <tr>\n",
       "      <th>16</th>\n",
       "      <td>p17</td>\n",
       "      <td>1450</td>\n",
       "      <td>8</td>\n",
       "      <td>batsman</td>\n",
       "    </tr>\n",
       "    <tr>\n",
       "      <th>17</th>\n",
       "      <td>p18</td>\n",
       "      <td>160</td>\n",
       "      <td>260</td>\n",
       "      <td>bowler</td>\n",
       "    </tr>\n",
       "    <tr>\n",
       "      <th>18</th>\n",
       "      <td>p19</td>\n",
       "      <td>1280</td>\n",
       "      <td>12</td>\n",
       "      <td>batsman</td>\n",
       "    </tr>\n",
       "    <tr>\n",
       "      <th>19</th>\n",
       "      <td>p20</td>\n",
       "      <td>130</td>\n",
       "      <td>350</td>\n",
       "      <td>bowler</td>\n",
       "    </tr>\n",
       "  </tbody>\n",
       "</table>\n",
       "</div>"
      ],
      "text/plain": [
       "   player name  no of runs  no of wickets player categorie\n",
       "0           p1        1500             10          batsman\n",
       "1           p2         132            250           bowler\n",
       "2           p3         156            122           bowler\n",
       "3           p4        5000              9          batsman\n",
       "4           p5         155            268           bowler\n",
       "5           p6        2000             15          batsman\n",
       "6           p7        3000             12          batsman\n",
       "7           p8        2500              5          batsman\n",
       "8           p9        1200              8          batsman\n",
       "9          p10         100            150           bowler\n",
       "10         p11         150            200           bowler\n",
       "11         p12          20            120           bowler\n",
       "12         p13          80            140           bowler\n",
       "13         p14        3000             12          batsman\n",
       "14         p15         160            130           bowler\n",
       "15         p16        2560             15          batsman\n",
       "16         p17        1450              8          batsman\n",
       "17         p18         160            260           bowler\n",
       "18         p19        1280             12          batsman\n",
       "19         p20         130            350           bowler"
      ]
     },
     "execution_count": 3,
     "metadata": {},
     "output_type": "execute_result"
    }
   ],
   "source": [
    "import numpy as np\n",
    "import pandas as pd\n",
    "d=({\"player name\":['p1','p2','p3','p4','p5','p6','p7','p8','p9','p10','p11','p12','p13','p14','p15','p16','p17','p18','p19','p20'],\n",
    "    \"no of runs\":[1500,132,156,5000,155,2000,3000,2500,1200,100,150,20,80,3000,160,2560,1450,160,1280,130],\n",
    "    \"no of wickets\":[10,250,122,9,268,15,12,5,8,150,200,120,140,12,130,15,8,260,12,350],\n",
    "    \"player categorie\":[\"batsman\",\"bowler\",\"bowler\",\"batsman\",\"bowler\",\"batsman\",\"batsman\",\"batsman\",\"batsman\",\"bowler\",\"bowler\",\"bowler\",\"bowler\",\"batsman\",\"bowler\",\"batsman\",\"batsman\",\"bowler\",\"batsman\",\"bowler\"]})\n",
    "d1=pd.DataFrame(d)\n",
    "d1"
   ]
  },
  {
   "cell_type": "code",
   "execution_count": 8,
   "id": "4e79c3ca",
   "metadata": {},
   "outputs": [],
   "source": [
    "f=open('cricket.txt','a')"
   ]
  },
  {
   "cell_type": "code",
   "execution_count": 9,
   "id": "a6c87578",
   "metadata": {},
   "outputs": [],
   "source": [
    "f.write(d1.to_string())\n",
    "f.close()"
   ]
  },
  {
   "cell_type": "code",
   "execution_count": 15,
   "id": "96e032c3",
   "metadata": {},
   "outputs": [
    {
     "data": {
      "text/plain": [
       "<matplotlib.collections.PathCollection at 0x21fce14ed60>"
      ]
     },
     "execution_count": 15,
     "metadata": {},
     "output_type": "execute_result"
    },
    {
     "data": {
      "image/png": "[encoded data removed]",
      "text/plain": [
       "<Figure size 432x288 with 1 Axes>"
      ]
     },
     "metadata": {
      "needs_background": "light"
     },
     "output_type": "display_data"
    }
   ],
   "source": [
    "import matplotlib.pyplot as plt\n",
    "import numpy as np\n",
    "x=d1[\"player name\"]\n",
    "y=d1[\"no of wickets\"]\n",
    "plt.scatter(x,y)"
   ]
  },
  {
   "cell_type": "code",
   "execution_count": 16,
   "id": "e1e28cf2",
   "metadata": {},
   "outputs": [
    {
     "data": {
      "text/plain": [
       "<matplotlib.collections.PathCollection at 0x21fce900eb0>"
      ]
     },
     "execution_count": 16,
     "metadata": {},
     "output_type": "execute_result"
    },
    {
     "data": {
      "image/png": "[encoded data removed]",
      "text/plain": [
       "<Figure size 432x288 with 1 Axes>"
      ]
     },
     "metadata": {
      "needs_background": "light"
     },
     "output_type": "display_data"
    }
   ],
   "source": [
    "x=d1[\"player name\"]\n",
    "y=d1[\"no of runs\"]\n",
    "plt.scatter(x,y)"
   ]
  },
  {
   "cell_type": "code",
   "execution_count": 17,
   "id": "e3554d8d",
   "metadata": {},
   "outputs": [
    {
     "data": {
      "text/plain": [
       "batsman    10\n",
       "bowler     10\n",
       "Name: player categorie, dtype: int64"
      ]
     },
     "execution_count": 17,
     "metadata": {},
     "output_type": "execute_result"
    }
   ],
   "source": [
    "d1['player categorie'].value_counts()"
   ]
  },
  {
   "cell_type": "code",
   "execution_count": 4,
   "id": "689a8cd2",
   "metadata": {},
   "outputs": [
    {
     "data": {
      "text/plain": [
       "<BarContainer object of 2 artists>"
      ]
     },
     "execution_count": 4,
     "metadata": {},
     "output_type": "execute_result"
    },
    {
     "data": {
      "image/png": "[encoded data removed]",
      "text/plain": [
       "<Figure size 432x288 with 1 Axes>"
      ]
     },
     "metadata": {
      "needs_background": "light"
     },
     "output_type": "display_data"
    }
   ],
   "source": [
    "import matplotlib.pyplot as plt\n",
    "import numpy as np\n",
    "x=np.array(['batsman','bowler'])\n",
    "y=d1['player categorie'].value_counts()\n",
    "plt.bar(x,y,)"
   ]
  },
  {
   "cell_type": "code",
   "execution_count": null,
   "id": "f43c919a",
   "metadata": {},
   "outputs": [],
   "source": []
  }
 ],
 "metadata": {
  "kernelspec": {
   "display_name": "Python 3 (ipykernel)",
   "language": "python",
   "name": "python3"
  },
  "language_info": {
   "codemirror_mode": {
    "name": "ipython",
    "version": 3
   },
   "file_extension": ".py",
   "mimetype": "text/x-python",
   "name": "python",
   "nbconvert_exporter": "python",
   "pygments_lexer": "ipython3",
   "version": "3.9.12"
  }
 },
 "nbformat": 4,
 "nbformat_minor": 5
}
